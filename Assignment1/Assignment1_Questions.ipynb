{
 "cells": [
  {
   "cell_type": "markdown",
   "metadata": {},
   "source": [
    "# Learning Goals\n",
    "\n",
    "The goal of this assignment is to develop an understanding of how the brain performs computations at the neuronal level. To do so, you will develop several models of a spiking neuron. By the end of this assignment, you should a) be comfortable with developing models of spiking neurons at different levels of abstraction, from the biologically plausible H-H model to the phenomenological LIF model; b) understand how neurons use their firing rate to represent continuous-valued information; and c) understand the trade-offs involved in spike-based information representation. \n",
    "\n",
    "Let's first import all the libraries required for this assignment"
   ]
  },
  {
   "cell_type": "code",
   "execution_count": 1,
   "metadata": {},
   "outputs": [],
   "source": [
    "import math\n",
    "import numpy as np\n",
    "from scipy.integrate import odeint\n",
    "import matplotlib.pyplot as plt\n",
    "import torchvision\n",
    "import torchvision.datasets as datasets\n",
    "from torchvision import transforms"
   ]
  },
  {
   "cell_type": "markdown",
   "metadata": {},
   "source": [
    "# Question 1: The Hodgkin Huxley Neuron\n",
    "## 1a. \n",
    "We will start by implementing the different computational models of a spiking neuron, with the aim of understanding the differences between the different models. We will start with one of the earliest, yet one of the most biologically faithful models of a neuron - The Hodgkin-Huxley (HH) model. Below is the class definition of an HH neuron. Your first task is to fill the different components required to simulate an HH neuron. "
   ]
  },
  {
   "cell_type": "code",
   "execution_count": 2,
   "metadata": {},
   "outputs": [],
   "source": [
    "class HodgkinHuxley():\n",
    "    \"\"\"Implementation of Hodgkin Huxley Model\"\"\"\n",
    "    def __init__(self, C_m, g_Na, g_K, g_L, E_Na, E_K, E_L, T, dt):\n",
    "        \"\"\"\n",
    "        :param C_m: membrane capacitance in uF/cm^2\n",
    "        :param g_Na: Sodium conductance in mS/cm^2\n",
    "        :param g_K: Potassium conductance in ms/cm^2\n",
    "        :param g_L: Leak maximum conductance\n",
    "        :param E_Na: Sodium Nernst reversal potential in mV\n",
    "        :param E_K: Potassium Nernst reversal potential in mV\n",
    "        :param E_L: Leak Nernst reversal potential in mV\n",
    "        :param T: Simulation timesteps\n",
    "        :param dt: Integration time \n",
    "        \n",
    "        This function is complete. You do not need to do anything here.\n",
    "        \"\"\"\n",
    "        self.C_m = C_m \n",
    "        self.g_Na = g_Na \n",
    "        self.g_K = g_K\n",
    "        self.g_L = g_L\n",
    "        self.E_Na = E_Na\n",
    "        self.E_K = E_K\n",
    "        self.E_L = E_L\n",
    "        self.T = T\n",
    "        self.dt = dt\n",
    "        self.t = np.arange(0, self.T, self.dt) #time to integrate over\n",
    "    \n",
    "    def alpha_m(self, V):\n",
    "        \"\"\"\n",
    "        Channel gating kinetics\n",
    "        :param V: membrane voltage\n",
    "        :return: alpha_m\n",
    "        \n",
    "        Fill in the equation for alpha_m\n",
    "        \"\"\"\n",
    "        return (0.1*(V + 40)) / (1 - math.exp(-(V + 40)/10))\n",
    "    \n",
    "    def beta_m(self, V):\n",
    "        \"\"\"\n",
    "        Channel gating kinetics\n",
    "        :param V: membrane voltage\n",
    "        :return: beta_m\n",
    "        \n",
    "        Fill in the equation for beta_m\n",
    "        \"\"\"\n",
    "        return 4*math.exp(-(V + 65)/18)\n",
    "    \n",
    "    def alpha_h(self, V):\n",
    "        \"\"\"\n",
    "        Channel gating kinetics\n",
    "        :param V: membrane voltage\n",
    "        :return: alpha_h\n",
    "        \n",
    "        Fill in the equation for alpha_h\n",
    "        \"\"\"\n",
    "        return 0.07*math.exp(-(V + 65)/20)\n",
    "    \n",
    "    def beta_h(self, V):\n",
    "        \"\"\"\n",
    "        Channel gating kinetics\n",
    "        :param V: membrane voltage\n",
    "        :return: beta_h\n",
    "        \n",
    "        Fill in the equation for beta_h\n",
    "        \"\"\"\n",
    "        return 1/(1 + math.exp(-(V + 35)/10))\n",
    "    \n",
    "    def alpha_n(self, V):\n",
    "        \"\"\"\n",
    "        Channel gating kinetics\n",
    "        :param V: membrane voltage\n",
    "        :return: alpha_n\n",
    "        \n",
    "        Fill in the equation for alpha_n\n",
    "        \"\"\"\n",
    "        return (0.01*(V + 55)) / (1 - math.exp(-(V + 55)/10))\n",
    "    \n",
    "    def beta_n(self, V):\n",
    "        \"\"\"\n",
    "        Channel gating kinetics\n",
    "        :param V: membrane voltage\n",
    "        :return: beta_n\n",
    "        \n",
    "        Fill in the equation for beta_n\n",
    "        \"\"\"\n",
    "        return 0.125*math.exp(-(V + 65)/80)\n",
    "    \n",
    "    def I_Na(self, V, m, h):\n",
    "        \"\"\"\n",
    "        Membrane Sodium current\n",
    "        :param V: membrane voltage\n",
    "        :param m: gating variable m\n",
    "        :param h: gating variable h\n",
    "        :return: sodium current I_Na\n",
    "        \n",
    "        Fill in the equation for I_Na\n",
    "        \"\"\"\n",
    "        return self.g_Na*(m**3)*h * (V - self.E_Na)\n",
    "    \n",
    "    def I_K(self, V, n):\n",
    "        \"\"\"\n",
    "        Membrane Potassium current\n",
    "        :param V: membrane voltage\n",
    "        :param n: gating variable n\n",
    "        :return: Potassium current I_K\n",
    "        \n",
    "        Fill in the equation for I_K\n",
    "        \"\"\"\n",
    "        return self.g_K*(n**4) * (V - self.E_K)\n",
    "    \n",
    "    def I_L(self, V):\n",
    "        \"\"\"\n",
    "        Membrane Leak current\n",
    "        :param V: membrane voltage\n",
    "        :return: Leak current I_L\n",
    "        \n",
    "        Fill in the equation for I_L\n",
    "        \"\"\"\n",
    "        return self.g_L*(V - self.E_L)\n",
    "\n",
    "    def I_inj(self, t):\n",
    "        \"\"\"\n",
    "        External current\n",
    "        :param t: time\n",
    "        :return: step up to 10 uA/cm^2 at t>100\n",
    "                step down to 0 uA/cm^2 at t>200\n",
    "                step up to 35 uA/cm^2 at t>300\n",
    "                step down to 0 uA/cm^2 at t>400\n",
    "        \n",
    "        This function is complete. You do not need to do anything here.\n",
    "        \"\"\"\n",
    "        return 10*(t>100) - 10*(t>200) + 35*(t>300) - 35*(t>400)\n",
    "    \n",
    "    @staticmethod\n",
    "    def computeDerivatives(X, t, self):\n",
    "        \"\"\"\n",
    "        Function to integrate membrane potential and activation variables\n",
    "        :param X: array containing the integration variables: V, m, h, n\n",
    "        :param t: time\n",
    "        :return dVdt: increment in membrane voltage\n",
    "                dmdt: increment in m\n",
    "                dhdt: increment in h\n",
    "                dndt: increment in n\n",
    "        \n",
    "        Fill in the update equations for dVdt, dmdt, dhdt, dndt\n",
    "        \"\"\"\n",
    "        V, m, h, n = X #unwrap X into the membrane potential and activation variables\n",
    "        dVdt =  (self.I_inj(t) - self.I_Na(V, m, h) - self.I_K(V, n) - self.I_L(V)) / self.C_m\n",
    "        dmdt =  (self.alpha_m(V)*(1-m)) - (self.beta_m(V)*m)\n",
    "        dhdt =  (self.alpha_h(V)*(1-h)) - (self.beta_h(V)*h)\n",
    "        dndt =  (self.alpha_n(V)*(1-n)) - (self.beta_n(V)*n)\n",
    "        return dVdt, dmdt, dhdt, dndt\n",
    "    \n",
    "    def run(self):\n",
    "        \"\"\"\n",
    "        Main function to simulate HH neuron and plot voltage and current against time. This part is complete. DO NOT change this code. You do not need to fill anything here. \n",
    "        \"\"\"\n",
    "        X = odeint(self.computeDerivatives, [-65, 0.05, 0.6, 0.32], self.t, args=(self,))\n",
    "        V, m, h, n = X[:, 0], X[:, 1], X[:, 2], X[:, 3]\n",
    "        plt.figure()\n",
    "        plt.subplot(2,1,1)\n",
    "        plt.title('Hodgkin-Huxley Neuron')\n",
    "        plt.plot(self.t, V, 'k')\n",
    "        plt.ylabel('V')\n",
    "        \n",
    "        plt.figure()\n",
    "        plt.subplot(2,1,2)\n",
    "        i_inj = [self.I_inj(t) for t in self.t]\n",
    "        plt.plot(self.t, i_inj, 'k')\n",
    "        plt.xlabel('t')\n",
    "        plt.ylabel('$I_{inj}$ ($\\\\mu{A}/cm^2$)')\n",
    "        plt.ylim(-1, 40)\n",
    "        \n",
    "        plt.show()"
   ]
  },
  {
   "cell_type": "markdown",
   "metadata": {},
   "source": [
    "## 1b. \n",
    "Initialize an HH neuron using a proper set of parameters; then run the simulation. You should be able to get a plot depicting how the Voltage and Current of the neuron change with time. "
   ]
  },
  {
   "cell_type": "code",
   "execution_count": 3,
   "metadata": {},
   "outputs": [
    {
     "data": {
      "image/png": "[encoded data removed]",
      "text/plain": [
       "<Figure size 432x288 with 1 Axes>"
      ]
     },
     "metadata": {
      "needs_background": "light"
     },
     "output_type": "display_data"
    },
    {
     "data": {
      "image/png": "[encoded data removed]",
      "text/plain": [
       "<Figure size 432x288 with 1 Axes>"
      ]
     },
     "metadata": {
      "needs_background": "light"
     },
     "output_type": "display_data"
    }
   ],
   "source": [
    "#1. Initialize an hh neuron using the class definition above\n",
    "hh_neuron = HodgkinHuxley(0.1, 120, 36, 0.3, 50, -77, -54.4, 410, 1) # C_m, g_Na, g_K, g_L, E_Na, E_K, E_L, T, dt\n",
    "\n",
    "#2. Run the hh neuron simulation\n",
    "hh_neuron.run()"
   ]
  },
  {
   "cell_type": "markdown",
   "metadata": {},
   "source": [
    "## 1c. \n",
    "The beauty of a neurophysiologically accurate model of a neuron is that it allows the simulation of several phenomena that can take place in the brain. Assume that you administer a drug named Tetrodotoxin (TTX), which is a potent neurotoxin that inhibits the voltage-gated sodium channels, and therefore decreases the sodium current. Simulate the effects that administering TTX would have on the neural firing.  Do the same for another drug, pronase,\n",
    "which eliminates sodium inactivation. "
   ]
  },
  {
   "cell_type": "code",
   "execution_count": 4,
   "metadata": {},
   "outputs": [
    {
     "data": {
      "image/png": "[encoded data removed]",
      "text/plain": [
       "<Figure size 432x288 with 1 Axes>"
      ]
     },
     "metadata": {
      "needs_background": "light"
     },
     "output_type": "display_data"
    },
    {
     "data": {
      "image/png": "[encoded data removed]",
      "text/plain": [
       "<Figure size 432x288 with 1 Axes>"
      ]
     },
     "metadata": {
      "needs_background": "light"
     },
     "output_type": "display_data"
    },
    {
     "data": {
      "image/png": "[encoded data removed]",
      "text/plain": [
       "<Figure size 432x288 with 1 Axes>"
      ]
     },
     "metadata": {
      "needs_background": "light"
     },
     "output_type": "display_data"
    },
    {
     "data": {
      "image/png": "[encoded data removed]",
      "text/plain": [
       "<Figure size 432x288 with 1 Axes>"
      ]
     },
     "metadata": {
      "needs_background": "light"
     },
     "output_type": "display_data"
    }
   ],
   "source": [
    "#1. Initialize an hh neuron to simulate TTX\n",
    "hh_ttx_neuron = HodgkinHuxley(0.1, 0.1*120, 36, 0.3, 50, -77, -54.4, 410, 1) # C_m, g_Na, g_K, g_L, E_Na, E_K, E_L, T, dt\n",
    "\n",
    "#2. Run the hh neuron simulation\n",
    "hh_ttx_neuron.run()\n",
    "\n",
    "#3. Initialize an hh neuron to simulate pronase\n",
    "hh_pronase_neuron = HodgkinHuxley(0.3, 1.2*120, 36, 0.3, 50, -77, -54.4, 410, 1) # C_m, g_Na, g_K, g_L, E_Na, E_K, E_L, T, dt\n",
    "\n",
    "#4. Run the hh neuron simulation\n",
    "hh_pronase_neuron.run()"
   ]
  },
  {
   "cell_type": "markdown",
   "metadata": {},
   "source": [
    "# Question 2: The Izhikevich Neuron\n",
    "\n",
    "## 2a.\n",
    "We will now implement an Izhikevich (Izhi) neuron model. Below is the class definition of an Izhi neuron. Like before, your task is to fill in the different components required to simulate an Izhi neuron. You should notice one key difference in the implementation: While our HH implementation relied on the odeint libary from scipy for integration, here we will use 'Euler's method' to integrate. The Euler's method is very intuitive, simple, and can be easily implemented. For your reference, the dynamics of an Izhi neuron are described in equations 1, 2, 3 in the paper: https://www.izhikevich.org/publications/spikes.pdf"
   ]
  },
  {
   "cell_type": "code",
   "execution_count": 5,
   "metadata": {},
   "outputs": [],
   "source": [
    "class Izhi():\n",
    "    \"\"\"Implementation of the Izhikevich neuron Model\"\"\"\n",
    "    def __init__(self, a, b, c, d, Vth, T, dt):\n",
    "        \"\"\"\n",
    "        :param a, b, c, d: Izhi neuron parameters\n",
    "        :param Vth: Voltage threshold for spiking\n",
    "        :param T: Simulation timesteps\n",
    "        :param dt: Integration time \n",
    "        \n",
    "        This function is complete. You do not need to do anything here.\n",
    "        \"\"\"\n",
    "        self.a = a\n",
    "        self.b = b\n",
    "        self.c = c\n",
    "        self.d = d\n",
    "        self.Vth = Vth\n",
    "        self.u = self.b * self.c #initialize u\n",
    "        self.T = T\n",
    "        self.dt = dt\n",
    "        self.t = np.arange(0, self.T, self.dt)\n",
    "        self.I = 10 #Input stimulus current\n",
    "        \n",
    "    def run(self):\n",
    "        \"\"\"\n",
    "        Main function to simulate Izhi neuron and plot voltage and current against time. Fill in the update equations for du, dv, v[t] and u[t] and resetting on spiking.\n",
    "        \"\"\"\n",
    "        V = np.zeros(len(self.t)) #Initialize a numpy array containing the membrane voltages for all the timesteps\n",
    "        V[0] = self.c #Initial membrane voltage is the rest potential, defined by the parameter 'c'\n",
    "        u = np.zeros(len(self.t)) #Initialize a numpy array containing u for all the timesteps\n",
    "        u[0] = self.u #Initial u\n",
    "        \n",
    "        for t in range(1, len(self.t)): #the time loop for performing euler's integration\n",
    "            dv =  (0.04 * V[t-1]**2) + (5 * V[t-1]) + 140 - u[t-1] + self.I\n",
    "            du =   self.a * ((self.b * V[t-1]) - u[t-1])\n",
    "            V[t] =  V[t-1] + dv\n",
    "            u[t] =  u[t-1] + du\n",
    "            \n",
    "            #condition for when membrane potential is greater than the threshold\n",
    "            if V[t] >= self.Vth:\n",
    "                V[t] =  self.c\n",
    "                u[t] =  u[t] + self.d\n",
    "                \n",
    "        #plotting\n",
    "        \"\"\"This function is complete. You do not need to do anything here\"\"\"\n",
    "        plt.figure()\n",
    "        plt.subplot(2,1,1)\n",
    "        plt.title('Izhi Neuron')\n",
    "        plt.plot(self.t, V, 'k')\n",
    "        plt.ylabel('V')\n",
    "        \n",
    "        plt.figure()\n",
    "        plt.subplot(2,1,2)\n",
    "        i_inj = [self.I for t in self.t]\n",
    "        plt.plot(self.t, i_inj, 'k')\n",
    "        plt.xlabel('t')\n",
    "        plt.ylabel('$I_{inj}$ ($\\\\mu{A}/cm^2$)')\n",
    "        \n",
    "        plt.show()"
   ]
  },
  {
   "cell_type": "markdown",
   "metadata": {},
   "source": [
    "## 2b. \n",
    "Initialize an Izhi neuron with the correct parameters and run the simulation. You should again be able to get a plot depicting how the Voltage and Current of the neuron change with time. "
   ]
  },
  {
   "cell_type": "code",
   "execution_count": 6,
   "metadata": {},
   "outputs": [
    {
     "data": {
      "image/png": "[encoded data removed]",
      "text/plain": [
       "<Figure size 432x288 with 1 Axes>"
      ]
     },
     "metadata": {
      "needs_background": "light"
     },
     "output_type": "display_data"
    },
    {
     "data": {
      "image/png": "[encoded data removed]",
      "text/plain": [
       "<Figure size 432x288 with 1 Axes>"
      ]
     },
     "metadata": {
      "needs_background": "light"
     },
     "output_type": "display_data"
    }
   ],
   "source": [
    "#1. Initialize an izhikevich neuron with the appropriate parameters\n",
    "izhi_neuron = Izhi(0.02, 0.2, -65, 2, 30, 10, 0.1)    # a, b, c, d, Vth, T, dt\n",
    "\n",
    "#2. Run the simulation and obtain the results\n",
    "izhi_neuron.run()"
   ]
  },
  {
   "cell_type": "markdown",
   "metadata": {},
   "source": [
    "## 2c.\n",
    "Change the parameters of the Izhi neuron in the code to replicate two different patterns identified in neurons, e.g., bursting and adaptation. You can find the parameters for several different Izhi models here: https://www.izhikevich.org/publications/spikes.pdf"
   ]
  },
  {
   "cell_type": "code",
   "execution_count": 7,
   "metadata": {},
   "outputs": [
    {
     "data": {
      "image/png": "[encoded data removed]",
      "text/plain": [
       "<Figure size 432x288 with 1 Axes>"
      ]
     },
     "metadata": {
      "needs_background": "light"
     },
     "output_type": "display_data"
    },
    {
     "data": {
      "image/png": "[encoded data removed]",
      "text/plain": [
       "<Figure size 432x288 with 1 Axes>"
      ]
     },
     "metadata": {
      "needs_background": "light"
     },
     "output_type": "display_data"
    },
    {
     "data": {
      "image/png": "[encoded data removed]",
      "text/plain": [
       "<Figure size 432x288 with 1 Axes>"
      ]
     },
     "metadata": {
      "needs_background": "light"
     },
     "output_type": "display_data"
    },
    {
     "data": {
      "image/png": "[encoded data removed]",
      "text/plain": [
       "<Figure size 432x288 with 1 Axes>"
      ]
     },
     "metadata": {
      "needs_background": "light"
     },
     "output_type": "display_data"
    }
   ],
   "source": [
    "#Write your implementation of the bursting and chattering neuron here\n",
    "\n",
    "#1. Initialize an izhikevich neuron with the appropriate parameters\n",
    "izhi_burst_neuron = Izhi(0.02, 0.2, -55, 4, 30, 30, 0.1)    # a, b, c, d, Vth, T, dt\n",
    "izhi_chatter_neuron = Izhi(0.02, 0.2, -50, 2, 30, 30, 0.1)    # a, b, c, d, Vth, T, dt\n",
    "\n",
    "#2. Run the simulation and obtain the results\n",
    "izhi_burst_neuron.run()\n",
    "izhi_chatter_neuron.run()"
   ]
  },
  {
   "cell_type": "markdown",
   "metadata": {},
   "source": [
    "# Question 3: The LIF Neuron\n",
    "\n",
    "## 3a. \n",
    "In this question, you will implement the almighty leaky integrate and fire neuron (LIF). The LIF neuron is the most widely-used model of a neuron in the SNN literature and you will be using it a lot for your course assignments and for your project. Below is the class definition of an LIF neuron. Just like the Izhi neuron, we will use Euler's method to perform integration. There is one key difference however: For HH and Izhi implementations, the neuron was taking current as the input. In our LIF implementation, the neuron takes spike-trains as inputs and produces spike-trains as output, similarly to how a real neuron works. \n",
    "\n",
    "As a hint, we provide here a discrete-time version of an LIF neuron:\n",
    "\n",
    "* First, integrate the input spikes into current with some decay factor\n",
    "\n",
    "$$C[t] = C[t-1] * current\\_decay + input\\_spike[t]$$\n",
    "\n",
    "* Then, integrate the current  into voltage with some decay factor\n",
    "\n",
    "$$V[t] = V[t-1] * voltage\\_decay + C[t]$$\n",
    "\n",
    "* Lastly produce a spike if the voltage exceeds the threshold, and reset voltage\n",
    "\n",
    "$$if V[t] >= Vth  \\\\ output\\_spike[t] = 1 \\ and \\ V[t] = Rest\\_Potential $$"
   ]
  },
  {
   "cell_type": "code",
   "execution_count": 8,
   "metadata": {},
   "outputs": [],
   "source": [
    "class LIF():\n",
    "    \"\"\"Implementation of Leaky integrate and fire neuron Model\"\"\"\n",
    "    def __init__(self, dc, dv, Vth, Vr):\n",
    "        \"\"\"\n",
    "        :param dc: Decay factor for current\n",
    "        :param dv: Decay factor for voltage\n",
    "        :param Vth: Voltage Threshold\n",
    "        :param Vr: Rest potential \n",
    "        \n",
    "        This function is complete. You do not need to do anything here\n",
    "        \"\"\"\n",
    "        self.dc = dc\n",
    "        self.dv = dv\n",
    "        self.Vth = Vth\n",
    "        self.Vr = Vr\n",
    "    \n",
    "    def run(self, in_spikes):\n",
    "        \"\"\"\n",
    "        Main function to simulate LIF neuron\n",
    "        :param in_spikes: Input spike train\n",
    "        :return out_spikes: output spike train\n",
    "        \n",
    "        Fill in the parts for updating Cm, Vm, and the condition for spiking and resetting\n",
    "        \"\"\"\n",
    "        Vm, Cm, out_spikes = [np.zeros(len(in_spikes)) for _ in range(3)] #initialize the state variables\n",
    "        for t in range(1, len(in_spikes)): #Time loop to perform Euler's Integration\n",
    "            Cm[t] =  Cm[t-1]*self.dc + in_spikes[t]\n",
    "            Vm[t] =  Vm[t-1]*self.dv + Cm[t]\n",
    "            \n",
    "            #condition for when membrane potential is greater than the threshold\n",
    "            if Vm[t] >= self.Vth:\n",
    "                out_spikes[t] = 1\n",
    "                Vm[t] = self.Vr\n",
    "\n",
    "        return out_spikes"
   ]
  },
  {
   "cell_type": "markdown",
   "metadata": {},
   "source": [
    "## 3b. \n",
    "Based on the class definition above, create an LIF neuron with the following parameters: dc = 0.5, dv = 0.5, Vth = 0.50, Vr = 0. \n",
    "Then apply to the neuron a random spike train for 15 timesteps. You might find the following numpy package useful to generate the input spike train:\n",
    "https://numpy.org/doc/stable/reference/random/generated/numpy.random.choice.html\n",
    "\n",
    "Simulate the neuron and print input and output spikes. "
   ]
  },
  {
   "cell_type": "code",
   "execution_count": 9,
   "metadata": {},
   "outputs": [
    {
     "name": "stdout",
     "output_type": "stream",
     "text": [
      "Input spikes passed to LIF neuron: [0 1 0 0 1 0 1 0 0 0 0 1 1 0 0]\n",
      "Output spikes received from LIF neuron: [0. 1. 1. 0. 1. 1. 1. 1. 0. 0. 0. 1. 1. 1. 0.]\n"
     ]
    }
   ],
   "source": [
    "#1. Create an LIF neuron with the required parameters using the class definition above\n",
    "lif = LIF(0.5, 0.5, 0.50, 0)     # dc, dv, Vth, Vr\n",
    "\n",
    "#2. Generate a random input spike train of 15 timesteps using the numpy random choice library function\n",
    "in_spikes = np.random.choice([0,1], 15, p = [0.6, 0.4])\n",
    "\n",
    "#3. Print the input spikes\n",
    "print(\"Input spikes passed to LIF neuron: {}\".format(in_spikes))\n",
    "\n",
    "#4. Stimulate the LIF neuron with input spikes and return the output spikes\n",
    "out_spikes = lif.run(in_spikes)\n",
    "\n",
    "#5. Print the output spikes\n",
    "print(\"Output spikes received from LIF neuron: {}\".format(out_spikes))"
   ]
  },
  {
   "cell_type": "markdown",
   "metadata": {},
   "source": [
    "# Question 4: Biology vs. Efficiency\n",
    "Now that you have simulated spiking neuron models at different levels of abstraction, we will learn how to differentiate between the three neuron models that we have developed, based on the following criteria:\n",
    "* Biological realism\n",
    "* Computational Efficiency\n",
    "\n",
    "Can you describe for what tasks might you need an HH model? For what tasks would an LIF neuron be a better alternative?\n",
    "*Hint*: Why one should use a neuron model that replicates several of the neuron's mechanisms vs. using a model that emulates the neuron as a spike-in-spike-out black box. "
   ]
  },
  {
   "cell_type": "markdown",
   "metadata": {},
   "source": [
    "## Answer 4:\n",
    "> * **Hodgkin-Huxley** is not very computationally efficient but it mimics biological neurons very closely (high biological plausibility). We can use H-H model when we need to simulate several phenomena that can take place in the brain.<br>\n",
    "> * The **LIF** model is too simple to reproduce diversity of dynamical features of biological neurons, however they are computationally very efficient and can be analyzed mathematically in great detail. With LIF, it is possible to simulate very large networks of neurons and hence we implement LIF when we need to work with multiple neurons, like when predicting some complex decision/value given an input stimuli/current/spike.<br>\n",
    "> * The **Izhikevich** neuron takes the best from both H-H and LIF models. They are both mathematically tractable and can simulate dynamic behaviors of real neurons as H-H type models."
   ]
  },
  {
   "cell_type": "markdown",
   "metadata": {},
   "source": [
    "# Question 5: Tuning Membrane Properties of the LIF neuron\n",
    "## 5a.\n",
    "In this question, you will understand how to tune the membrane properties of an LIF neuron. First, generate 20 inputs in the form of random spike trains of length 50, i.e. 50 timesteps. The inputs will have different levels of probabilities for spike generation, that ranges between 0.1 and 1.0 with step size of 0.05. In other words, you will create 20 spike trains with the first spike train having the probability of 0.1 to generate spikes at any timestep, the second spike train will have the spike generation probability of 0.15, and so on. \n",
    "\n",
    "Simulate an LIF neuron with the parameters defined in Question 3b. You will now drive the neuron model with the 20 randomly generated input spike trains that you have created, and compute the output spike train. \n",
    "At the same time, compute the input firing rate and output firing rate for each simulation. Firing rate is defined as the mean of the spike train, i.e. total number of spikes/timesteps"
   ]
  },
  {
   "cell_type": "code",
   "execution_count": 10,
   "metadata": {},
   "outputs": [
    {
     "data": {
      "image/png": "[encoded data removed]",
      "text/plain": [
       "<Figure size 432x288 with 1 Axes>"
      ]
     },
     "metadata": {
      "needs_background": "light"
     },
     "output_type": "display_data"
    },
    {
     "data": {
      "image/png": "[encoded data removed]",
      "text/plain": [
       "<Figure size 432x288 with 1 Axes>"
      ]
     },
     "metadata": {
      "needs_background": "light"
     },
     "output_type": "display_data"
    }
   ],
   "source": [
    "def lif_behavior(lif):\n",
    "    \"\"\"Function to understand the behavior of LIF neuron for different densities of spike inputs\n",
    "    :param lif: An instance of the LIF neuron\n",
    "    \"\"\"\n",
    "    #1. Create lists to store the input and output firing rates\n",
    "    in_fr = [] #input firing rate\n",
    "    out_fr = [] #output firing rate\n",
    "    \n",
    "    #2. Create a list of probabilities: from 0.1 to 1.0 with step size of 0.05. You might find the numpy arange function helpful here.\n",
    "    probabilities = np.arange(0.1, 1, 0.05)\n",
    "    \n",
    "    #3. Loop through the range of probabilities\n",
    "    for p in probabilities:\n",
    "        in_spikes =  np.random.choice([0,1], 50, True, [1-p, p])\n",
    "        \n",
    "        #compute input firing rate and append to the in_fr list\n",
    "        in_fr.append(sum(in_spikes)/len(in_spikes))\n",
    "        \n",
    "        #obtain output spikes by applying the input to the LIF neuron\n",
    "        out_spikes = lif.run(in_spikes)\n",
    "        \n",
    "        #compute output firing rate and append to the out_fr list\n",
    "        out_fr.append(sum(out_spikes)/len(out_spikes))\n",
    "        # print(\"p:{}\\nInput Spikes:{}\\nOutput Spikes:{}\".format(p,in_spikes, out_spikes))\n",
    "    #Plot the input and output firing rates. Nothing to do here. This part is complete\n",
    "    plt.figure()\n",
    "    plt.subplot(2,1,1)\n",
    "    plt.title('output firing rate')\n",
    "    plt.plot(out_fr, 'k')\n",
    "    plt.ylabel('Out F.R.')\n",
    "    plt.ylim([0,1.25])\n",
    "\n",
    "    plt.figure()\n",
    "    plt.subplot(2,1,2)\n",
    "    plt.plot(in_fr, 'k')\n",
    "    plt.ylabel('In F.R.')\n",
    "    plt.ylim([0,1.25])\n",
    "    plt.show()\n",
    "\n",
    "#Run the lif behavior function for the LIF neuron that we created previously\n",
    "lif_behavior(lif)"
   ]
  },
  {
   "cell_type": "markdown",
   "metadata": {},
   "source": [
    "## 5b. \n",
    "Describe how soon does the output firing rate start to saturate? Can you describe why this could be problematic? *Hint: Think from the point of view of distinguishing between two different inputs based on firing activity*"
   ]
  },
  {
   "cell_type": "markdown",
   "metadata": {},
   "source": [
    "## Answer 5b.\n",
    ">We observe here that for every continuous spike (1) in *in_spikes* [0 1 0 0 1 1 0], we get one extra spike (1) in *out_spikes* [0 1 1 0 1 1 1]. This essentially means that as we increase the probability of a spike (1) in *in_spikes*, we will eventually reach a probability after which we start getting *in_spikes* such that **output firing rate** saturates. This is problematic because after a certain point, we won't be able to differentiate between different input spikes as all of them will have same output firing rate, leading to more error and ambiguity.\n",
    "\n",
    "><br>Consider below examples:\n",
    "\n",
    ">1. in_spikes = [0 1 1 0 1 1 0], out_spikes = [0 1 1 1 1 1 1]\n",
    "\n",
    ">2. in_spikes = [0 1 1 1 1 1 0], out_spikes = [0 1 1 1 1 1 1]\n",
    "\n",
    ">3. in_spikes = [0 1 1 1 1 1 1], out_spikes = [0 1 1 1 1 1 1]\n",
    "\n",
    "><br>This behaviour depends extensively on voltage calculation, $$V[t] = V[t-1] * voltage\\_decay + C[t]$$ \n",
    "which in turn depends on current value *C[t]* $$C[t] = C[t-1] * current\\_decay + input\\_spike[t]$$ \n",
    "We also observe that as soon as **V[t] >= Vth** we get one output spike and voltage is reset to or decays to resting potential, i.e, 0 immediately. This indicates that *C[t]* plays a major role in taking the value of *V[t]* above or equal to *Vth*. Thus, if we decay the current at a more faster rate, we can deal with the issue of output_rate saturation, which then will more closely mimic the *in_spikes*. To decay the current more quickly, we decrease the value of current_decay in above calculation for *C[t]*. We can also try increasing **Vth** slightly, which restricts the extra output_spike *(though we need to be careful that we don't increase it too much, else out_spikes might not fire correctly)*."
   ]
  },
  {
   "cell_type": "markdown",
   "metadata": {},
   "source": [
    "## 5c. \n",
    "Change the membrane properties of the LIF neuron to resolve the issue of saturation. In other words, experiment on setting different parameter values that do not allow the output firing rate to saturate so early. *Hint: You may want to start by changing one variable at a time, and see its effect. Try to move it slightly, or abruptly, up or down. Then move to the next parameter, until you see what is its effect on the neuron's output.* "
   ]
  },
  {
   "cell_type": "code",
   "execution_count": 11,
   "metadata": {},
   "outputs": [
    {
     "data": {
      "image/png": "[encoded data removed]",
      "text/plain": [
       "<Figure size 432x288 with 1 Axes>"
      ]
     },
     "metadata": {
      "needs_background": "light"
     },
     "output_type": "display_data"
    },
    {
     "data": {
      "image/png": "[encoded data removed]",
      "text/plain": [
       "<Figure size 432x288 with 1 Axes>"
      ]
     },
     "metadata": {
      "needs_background": "light"
     },
     "output_type": "display_data"
    }
   ],
   "source": [
    "#1. Create an LIF neuron with appropriately tuned membrane properties\n",
    "tuned_lif = LIF(0.20, 0.5, 0.50, 0)     # dc, dv, Vth, Vr\n",
    "\n",
    "#2. Call the lif behavior function on the tuned lif neuron\n",
    "lif_behavior(tuned_lif)"
   ]
  },
  {
   "cell_type": "markdown",
   "metadata": {},
   "source": [
    "## 5d.\n",
    "Based on the above results, can you describe how changing the H-H parameters changes the voltage threshold of a spiking neuron as a function of the input spikes?"
   ]
  },
  {
   "cell_type": "markdown",
   "metadata": {},
   "source": [
    "## Answer 5d.\n",
    ">H-H model can be used to model the total current resulting from an applied voltage, furthermore, the model can also be used to predict voltage given an externally applied current. If we consider the input spikes in LIF model as externally applied current to H-H model, we can have dynamic voltage threshold as a function of input spikes."
   ]
  },
  {
   "cell_type": "markdown",
   "metadata": {},
   "source": [
    "# Question 6: Encoding continuous inputs into spikes\n",
    "## 6a.\n",
    "Now we will understand how we can represent continuous-valued inputs as spikes so that drive our spiking neuron. Describe two prominent ways to encode a continuous-valued input into the spiking activity of a neuron. "
   ]
  },
  {
   "cell_type": "markdown",
   "metadata": {},
   "source": [
    "## Answer 6a.\n",
    ">Two prominent ways to encode a continuous-values input into the spiking activity of neuron are:\n",
    "\n",
    ">1. **Rate Coding**, converts input intensity into a firing rate or spike count. Rate coding models suggest that the irregularities of neuronal firing are noise and average them.\n",
    ">2. **Temporal Coding**, converts input intensity to a spike time. Temporal code models assume that precise timing of spikes and interspike intervals carries information."
   ]
  },
  {
   "cell_type": "markdown",
   "metadata": {},
   "source": [
    "## 6b. \n",
    "So far we have learned how we can stimulate a spiking neuron using spike inputs. In this exercise, you will learn how to encode real-world data into spikes that can then be fed as inputs to the spiking neuron. We will take a digit from the popular MNIST dataset as an example. First let's see what a sample digit from the MNIST image looks like. For this, we need to create a loader for the MNIST dataset using a Pytorch function called datasets.MNIST. You do not need to know what a loader is for now. Just understand the two important arguments of the function: The first argument is the directory where the MNIST dataset will be downloaded. The third argument is the set download option. This should be true for the first time when you run this cell to allow you to download the MNIST data into your directory. You can set it to false if the MNIST data has already been downloaded. "
   ]
  },
  {
   "cell_type": "code",
   "execution_count": 12,
   "metadata": {},
   "outputs": [
    {
     "data": {
      "text/plain": [
       "<matplotlib.image.AxesImage at 0x120e3c040>"
      ]
     },
     "execution_count": 12,
     "metadata": {},
     "output_type": "execute_result"
    },
    {
     "data": {
      "image/png": "[encoded data removed]",
      "text/plain": [
       "<Figure size 432x288 with 1 Axes>"
      ]
     },
     "metadata": {
      "needs_background": "light"
     },
     "output_type": "display_data"
    }
   ],
   "source": [
    "#Create a loader\n",
    "mnist = datasets.MNIST(root='../data', train=False, download=False, transform=transforms.ToTensor())\n",
    "#You can access any sample digit from the MNIST dataset using simple indexing mnist[idx]. This returns the digit and the label. We are only interested in the digit. \n",
    "x, _ = mnist[5]\n",
    "#Convert to numpy\n",
    "x = x.numpy()[0]\n",
    "#Visualize\n",
    "plt.imshow(x)"
   ]
  },
  {
   "cell_type": "markdown",
   "metadata": {},
   "source": [
    "Let's now encode the image in the form of spikes using rate-encoding. Suppose that each pixel in the image needs to be encoded in a spike train of length 2. The steps to encode are outlined below:\n",
    "* For each pixel in the image, sample a random number.\n",
    "* If the pixel intensity is greater than the generated random number, output a spike. \n",
    "* Repeat for as many timesteps as you need to encode the image for. \n",
    "* Repeat for all pixels"
   ]
  },
  {
   "cell_type": "code",
   "execution_count": 13,
   "metadata": {},
   "outputs": [
    {
     "name": "stdout",
     "output_type": "stream",
     "text": [
      "Encoded Image Shape: (784, 2)\n"
     ]
    }
   ],
   "source": [
    "#1. Use the numpy.random.rand function to encode the MNIST image into spikes\n",
    "def encode(in_img, T):\n",
    "    rows, cols = in_img.shape\n",
    "    ran_px_prob = np.random.rand(rows*cols, T) # generate random values for T timesteps\n",
    "    img_comp = np.transpose([in_img.flatten()]*T) # flatten image array and make a copy into T columns\n",
    "    in_spikes = img_comp > ran_px_prob # create spikes for T time steps by comparing image pixels with randomly generated value\n",
    "\n",
    "    return in_spikes\n",
    "\n",
    "#2. Output the shape of the spike-encoded image using numpy.shape\n",
    "in_spikes = encode(x, T = 2)\n",
    "print(\"Encoded Image Shape: {}\".format(in_spikes.shape))"
   ]
  },
  {
   "cell_type": "markdown",
   "metadata": {},
   "source": [
    "## 6c. \n",
    "Now, we will decode the image back from the spike-based representation. Can you think of a way to get the pixel values back? *Hint: Think aggregate measures on the spike trains for each pixel*"
   ]
  },
  {
   "cell_type": "code",
   "execution_count": 14,
   "metadata": {},
   "outputs": [
    {
     "data": {
      "image/png": "[encoded data removed]",
      "text/plain": [
       "<Figure size 432x288 with 1 Axes>"
      ]
     },
     "metadata": {
      "needs_background": "light"
     },
     "output_type": "display_data"
    }
   ],
   "source": [
    "#1. Compute some aggregate measure of spike trains for each pixel to get the image back. Numpy aggregate functions might be useful here\n",
    "def decode(in_spikes, shape):\n",
    "    out_img = np.mean(in_spikes, axis = 1).reshape(shape)\n",
    "\n",
    "    return out_img\n",
    "\n",
    "#2. visualize the reconstructed image\n",
    "out_img = decode(in_spikes, shape = x.shape)\n",
    "plt.imshow(out_img)\n",
    "plt.axis('off')\n",
    "plt.show()"
   ]
  },
  {
   "cell_type": "markdown",
   "metadata": {},
   "source": [
    "Is it possible to get the exact image back? Why/Why not?"
   ]
  },
  {
   "cell_type": "markdown",
   "metadata": {},
   "source": [
    "## Answer 6c.\n",
    ">It is not possible to get the exact image back. We will face some loss in terms of pixel intensities or some loss of pixels itself. However, if we use sufficient enough time steps or multiple neurons (population encoding) to represent firing rate of each pixel in input image, we can reconstruct a very similar image in which the change would not be noticable."
   ]
  },
  {
   "cell_type": "markdown",
   "metadata": {},
   "source": [
    "## 6d. \n",
    "Can you think of a way to encode the image into spikes in a way such that the decoded image looks as close as possible to the original image? *Hint: Think timesteps*"
   ]
  },
  {
   "cell_type": "code",
   "execution_count": 15,
   "metadata": {},
   "outputs": [
    {
     "data": {
      "image/png": "[encoded data removed]",
      "text/plain": [
       "<Figure size 432x288 with 1 Axes>"
      ]
     },
     "metadata": {
      "needs_background": "light"
     },
     "output_type": "display_data"
    }
   ],
   "source": [
    "#1. Create a \"better\" encoding of the image\n",
    "in_tuned_spikes = encode(x, T = 10)\n",
    "\n",
    "#2. Compute and visualize the decoded image\n",
    "out_tuned_img = decode(in_tuned_spikes, shape = x.shape)\n",
    "plt.imshow(out_tuned_img)\n",
    "plt.axis('off')\n",
    "plt.show()"
   ]
  },
  {
   "cell_type": "markdown",
   "metadata": {},
   "source": [
    "If each intensity pixel is represented with a value between [0, 255], what would be a reasonable timestep to encode it accurately? What might be a disadvantage of this solution?"
   ]
  },
  {
   "cell_type": "markdown",
   "metadata": {},
   "source": [
    "## Answer 6d. \n",
    ">We can use 8 timesteps to represent pixel values between [0, 255], as we can represent 256 values in terms of 8-bits, 2<sup>8</sup>, The only disadvantage is that we will face some loss of information in terms of pixel intensity."
   ]
  }
 ],
 "metadata": {
  "kernelspec": {
   "display_name": "Python 3 (ipykernel)",
   "language": "python",
   "name": "python3"
  },
  "language_info": {
   "codemirror_mode": {
    "name": "ipython",
    "version": 3
   },
   "file_extension": ".py",
   "mimetype": "text/x-python",
   "name": "python",
   "nbconvert_exporter": "python",
   "pygments_lexer": "ipython3",
   "version": "3.9.10"
  }
 },
 "nbformat": 4,
 "nbformat_minor": 4
}
